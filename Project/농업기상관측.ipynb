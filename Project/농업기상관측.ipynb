{
 "cells": [
  {
   "cell_type": "markdown",
   "metadata": {
    "vscode": {
     "languageId": "r"
    }
   },
   "source": [
    "## API data fetching \n",
    "\n",
    "\n",
    "농촌진흥청 국립농업과학원_농업기상 기본 관측데이터 조회\n",
    "\n"
   ]
  },
  {
   "cell_type": "code",
   "execution_count": 16,
   "metadata": {
    "vscode": {
     "languageId": "r"
    }
   },
   "outputs": [
    {
     "data": {
      "text/html": [
       "'ko_KR.UTF-8/ko_KR.UTF-8/ko_KR.UTF-8/C/ko_KR.UTF-8/C'"
      ],
      "text/latex": [
       "'ko\\_KR.UTF-8/ko\\_KR.UTF-8/ko\\_KR.UTF-8/C/ko\\_KR.UTF-8/C'"
      ],
      "text/markdown": [
       "'ko_KR.UTF-8/ko_KR.UTF-8/ko_KR.UTF-8/C/ko_KR.UTF-8/C'"
      ],
      "text/plain": [
       "[1] \"ko_KR.UTF-8/ko_KR.UTF-8/ko_KR.UTF-8/C/ko_KR.UTF-8/C\""
      ]
     },
     "metadata": {},
     "output_type": "display_data"
    },
    {
     "name": "stderr",
     "output_type": "stream",
     "text": [
      "필요한 패키지를 로딩중입니다: sysfonts\n",
      "\n",
      "필요한 패키지를 로딩중입니다: showtextdb\n",
      "\n",
      "\n",
      "다음의 패키지를 부착합니다: ‘dplyr’\n",
      "\n",
      "\n",
      "The following objects are masked from ‘package:data.table’:\n",
      "\n",
      "    between, first, last\n",
      "\n",
      "\n",
      "The following objects are masked from ‘package:stats’:\n",
      "\n",
      "    filter, lag\n",
      "\n",
      "\n",
      "The following objects are masked from ‘package:base’:\n",
      "\n",
      "    intersect, setdiff, setequal, union\n",
      "\n",
      "\n",
      "\n",
      "다음의 패키지를 부착합니다: ‘psych’\n",
      "\n",
      "\n",
      "The following objects are masked from ‘package:ggplot2’:\n",
      "\n",
      "    %+%, alpha\n",
      "\n",
      "\n",
      "\n",
      "다음의 패키지를 부착합니다: ‘reshape2’\n",
      "\n",
      "\n",
      "The following objects are masked from ‘package:data.table’:\n",
      "\n",
      "    dcast, melt\n",
      "\n",
      "\n",
      "\n",
      "다음의 패키지를 부착합니다: ‘plotrix’\n",
      "\n",
      "\n",
      "The following object is masked from ‘package:psych’:\n",
      "\n",
      "    rescale\n",
      "\n",
      "\n",
      "── \u001b[1mAttaching core tidyverse packages\u001b[22m ──────────────────────── tidyverse 2.0.0 ──\n",
      "\u001b[32m✔\u001b[39m \u001b[34mforcats  \u001b[39m 1.0.0     \u001b[32m✔\u001b[39m \u001b[34mreadr    \u001b[39m 2.1.5\n",
      "\u001b[32m✔\u001b[39m \u001b[34mlubridate\u001b[39m 1.9.3     \u001b[32m✔\u001b[39m \u001b[34mtibble   \u001b[39m 3.2.1\n",
      "\u001b[32m✔\u001b[39m \u001b[34mpurrr    \u001b[39m 1.0.2     \u001b[32m✔\u001b[39m \u001b[34mtidyr    \u001b[39m 1.3.1\n",
      "── \u001b[1mConflicts\u001b[22m ────────────────────────────────────────── tidyverse_conflicts() ──\n",
      "\u001b[31m✖\u001b[39m \u001b[34mpsych\u001b[39m::\u001b[32m%+%()\u001b[39m         masks \u001b[34mggplot2\u001b[39m::%+%()\n",
      "\u001b[31m✖\u001b[39m \u001b[34mpsych\u001b[39m::\u001b[32malpha()\u001b[39m       masks \u001b[34mggplot2\u001b[39m::alpha()\n",
      "\u001b[31m✖\u001b[39m \u001b[34mdplyr\u001b[39m::\u001b[32mbetween()\u001b[39m     masks \u001b[34mdata.table\u001b[39m::between()\n",
      "\u001b[31m✖\u001b[39m \u001b[34mdplyr\u001b[39m::\u001b[32mfilter()\u001b[39m      masks \u001b[34mstats\u001b[39m::filter()\n",
      "\u001b[31m✖\u001b[39m \u001b[34mdplyr\u001b[39m::\u001b[32mfirst()\u001b[39m       masks \u001b[34mdata.table\u001b[39m::first()\n",
      "\u001b[31m✖\u001b[39m \u001b[34mpurrr\u001b[39m::\u001b[32mflatten()\u001b[39m     masks \u001b[34mjsonlite\u001b[39m::flatten()\n",
      "\u001b[31m✖\u001b[39m \u001b[34mlubridate\u001b[39m::\u001b[32mhour()\u001b[39m    masks \u001b[34mdata.table\u001b[39m::hour()\n",
      "\u001b[31m✖\u001b[39m \u001b[34mlubridate\u001b[39m::\u001b[32misoweek()\u001b[39m masks \u001b[34mdata.table\u001b[39m::isoweek()\n",
      "\u001b[31m✖\u001b[39m \u001b[34mdplyr\u001b[39m::\u001b[32mlag()\u001b[39m         masks \u001b[34mstats\u001b[39m::lag()\n",
      "\u001b[31m✖\u001b[39m \u001b[34mdplyr\u001b[39m::\u001b[32mlast()\u001b[39m        masks \u001b[34mdata.table\u001b[39m::last()\n",
      "\u001b[31m✖\u001b[39m \u001b[34mlubridate\u001b[39m::\u001b[32mmday()\u001b[39m    masks \u001b[34mdata.table\u001b[39m::mday()\n",
      "\u001b[31m✖\u001b[39m \u001b[34mlubridate\u001b[39m::\u001b[32mminute()\u001b[39m  masks \u001b[34mdata.table\u001b[39m::minute()\n",
      "\u001b[31m✖\u001b[39m \u001b[34mlubridate\u001b[39m::\u001b[32mmonth()\u001b[39m   masks \u001b[34mdata.table\u001b[39m::month()\n",
      "\u001b[31m✖\u001b[39m \u001b[34mlubridate\u001b[39m::\u001b[32mquarter()\u001b[39m masks \u001b[34mdata.table\u001b[39m::quarter()\n",
      "\u001b[31m✖\u001b[39m \u001b[34mlubridate\u001b[39m::\u001b[32msecond()\u001b[39m  masks \u001b[34mdata.table\u001b[39m::second()\n",
      "\u001b[31m✖\u001b[39m \u001b[34mpurrr\u001b[39m::\u001b[32mtranspose()\u001b[39m   masks \u001b[34mdata.table\u001b[39m::transpose()\n",
      "\u001b[31m✖\u001b[39m \u001b[34mlubridate\u001b[39m::\u001b[32mwday()\u001b[39m    masks \u001b[34mdata.table\u001b[39m::wday()\n",
      "\u001b[31m✖\u001b[39m \u001b[34mlubridate\u001b[39m::\u001b[32mweek()\u001b[39m    masks \u001b[34mdata.table\u001b[39m::week()\n",
      "\u001b[31m✖\u001b[39m \u001b[34mlubridate\u001b[39m::\u001b[32myday()\u001b[39m    masks \u001b[34mdata.table\u001b[39m::yday()\n",
      "\u001b[31m✖\u001b[39m \u001b[34mlubridate\u001b[39m::\u001b[32myear()\u001b[39m    masks \u001b[34mdata.table\u001b[39m::year()\n",
      "\u001b[36mℹ\u001b[39m Use the conflicted package (\u001b[3m\u001b[34m<http://conflicted.r-lib.org/>\u001b[39m\u001b[23m) to force all conflicts to become errors\n",
      "\n",
      "다음의 패키지를 부착합니다: ‘kableExtra’\n",
      "\n",
      "\n",
      "The following object is masked from ‘package:dplyr’:\n",
      "\n",
      "    group_rows\n",
      "\n",
      "\n",
      "필요한 패키지를 로딩중입니다: lattice\n",
      "\n",
      "\n",
      "다음의 패키지를 부착합니다: ‘caret’\n",
      "\n",
      "\n",
      "The following object is masked from ‘package:purrr’:\n",
      "\n",
      "    lift\n",
      "\n",
      "\n",
      "randomForest 4.7-1.1\n",
      "\n",
      "Type rfNews() to see new features/changes/bug fixes.\n",
      "\n",
      "\n",
      "다음의 패키지를 부착합니다: ‘randomForest’\n",
      "\n",
      "\n",
      "The following object is masked from ‘package:psych’:\n",
      "\n",
      "    outlier\n",
      "\n",
      "\n",
      "The following object is masked from ‘package:dplyr’:\n",
      "\n",
      "    combine\n",
      "\n",
      "\n",
      "The following object is masked from ‘package:ggplot2’:\n",
      "\n",
      "    margin\n",
      "\n",
      "\n"
     ]
    }
   ],
   "source": [
    "## Basic Settings\n",
    "    options(warn = -1) ## 경고 지우기\n",
    "    options(repr.plot.width=8, repr.plot.height=6) # 플랏 크기 조절\n",
    "    Sys.setlocale(category = \"LC_ALL\", locale = \"ko_KR.UTF-8\") # 한글 설정\n",
    "# Basic Graph Google Font Setting\n",
    "    library(showtext) ## plot : 구글 폰트 사용 \n",
    "    font_add_google(name = \"Noto Serif KR\",family = \"noto-serif\")\n",
    "    showtext_auto(TRUE)\n",
    "\n",
    "## Data Fetch (basic)\n",
    "    ## CSV file\n",
    "    # read.csv('',\n",
    "    #         na.strings=NA, header = T, sep=\",\",encoding = \"UTF-8\") \n",
    "\n",
    "    ## Text File\n",
    "    # readtable(\"\", \n",
    "    #          encoding =\"EUC-KR\", fileEncoding =\"UTF-8\", \n",
    "    #          colnames =varnames,\n",
    "    #          hearder =F, skip =0, nrows =-1, sep=\"\")\n",
    "\n",
    "# Libraries for data fetching\n",
    "    library(jsonlite) # JSON file fetch\n",
    "    # fromJSON(\"\") #: json file fetch\n",
    "    library(XML) # XML file fetch\n",
    "    # xmlToDataFrame(\"\")\n",
    "    library(readxl) # excel file fetch\n",
    "    # read_excel(\"\", sheet =2)\n",
    "\n",
    "## 함수 정리 \n",
    "\n",
    "## 기본함수 : data, str, length, ncol, nrow, dim, ls, head, tail, library, \n",
    "    # data<- c(1,2,3)\n",
    "    # label = c('a','b','c')\n",
    "    # names(data)<-label\n",
    "    \n",
    "    # matrix( data, nrow= 2, ncol=3 , byrow=T)\n",
    "    # array(data, dim = c(2,3))\n",
    "    # list(data, \"hello\")\n",
    "    # factor(data, labels= label)\n",
    "\n",
    "## 기본 통계량 mean, median, min, max, range, sd, hist, barplot, stem, var\n",
    "    # range(data) #: data 의 최대 최소 출력\n",
    "    # var(data)  #: data 의 분산값 출력\n",
    "    # quantile(data, probs = 0.25) # :  사분위 수 출력 함수 \n",
    "\n",
    "## 데이터 처리 : apply, sapply, lapply \n",
    "\n",
    "## 데이터 시각화\n",
    "    # stem(col, scale =1)\n",
    "    # hist(data) # : data 의 histogram(연속 분포함수 ) \n",
    "    # barplot(data, ylim =c(0:10), main= \"title\", xlab=\"x label\", ylab=\"y label\", names =colnames(data)), \n",
    "\n",
    "\n",
    "## Libraries for DATA\n",
    "    library(stringr) # stringr 불러오기\n",
    "    library(dplyr) # dplyr : 데이터 가공 함수 -> \n",
    "    # filter(data,  a>1) : 특정 row 추출\n",
    "    # select(data, a, b) : 특정 column 추출\n",
    "    # arrange(data, desc(a))\n",
    "    # mutate(data, a_rank =rank(a)) # a칼럼 값을 기준으로 rank 를 매겨 새로운 랭크 칼럼을 생성\n",
    "    # distinct(data, a,b) # data 의 a, b 칼럼을 기준으로 중복된 행을 제거 (a와 b 가 동시에 중복)\n",
    "    # summarise(data, a_mean = mean(a), a_min= min(a), a_sd = sd(a) .. func(a)) # a 칼럼의 평균, 등등의 함수 값 요약. \n",
    "\n",
    "    library(descr) # descr : 데이터 설명 함수 \n",
    "    # freq(data, plot =F, main =\"title\") # : data row 별 빈도수 \n",
    "    library(psych) # psych : 데이터 시각화 함수 pairs.panel(iris)\n",
    "    # kurtosi(data) #: data 의 첨도값 출력 / psych \n",
    "    # skew(data) #: data 의 왜도값 출력 /psysy\n",
    "\n",
    "\n",
    "library(reshape2) # data layout 변환 \n",
    "library(ggplot2) # 그래프 \n",
    "library(plotrix) # 3D pie\n",
    "library(RColorBrewer) # color package\n",
    "library(tidyverse)\n",
    "library(hrbrthemes)\n",
    "library(kableExtra)\n",
    "\n",
    "library(caret) # data sampling \n",
    "library(randomForest) # prediction model \n",
    "library(nnet)\n",
    "\n",
    "\n",
    "#library(extrafont)\n",
    "# Functions \n",
    "dataDescription <- function(data){\n",
    "    columns <-c()\n",
    "    cat(\"\\n\\n *** 칼럼 별 데이터 빈도 조사 ***\\n\\nData Columns :  \",ncol(data),\"개\",\"\\n\\n\\n\")\n",
    "    for( i in 1:ncol(data)){\n",
    "        cat(\" \",i ,\". \", colnames(data)[i],\"\\n\", sep = \"\")\n",
    "        columnDesc(data[colnames(data)[i]])\n",
    "        columns<- append(columns,colnames(data)[i])\n",
    "    }\n",
    "    return(columns)\n",
    "}\n",
    "\n",
    "\n",
    "columnDesc<- function(column){\n",
    "    par(bg = \"white\")\n",
    "    # 시장이름의 개수\n",
    "    cat( \"\\n ***[\",names(column), \"]칼럼의 데이터 종류 개수:\",nrow(unique(column)), sep = \"\")\n",
    "    # 가장 빈도가 많은 데이터와 적은 데이터 각각 5개 \n",
    "    dataFreq_top5<- head(arrange(as.data.frame(freq(as.matrix(column), plot =F)), desc(Frequency))[2:6,],5)\n",
    "    dataFreq_bot5<-tail(arrange(as.data.frame(freq(as.matrix(column), plot =F)), desc(Frequency)),5)\n",
    "    cat(\"\\n\\n-----[\",names(column),\"] 에서 가장 빈도가 많은 데이터 top 5 \\n\")\n",
    "    print(dataFreq_top5)\n",
    "    cat(\"\\n\\n-----[\",names(column),\"] 에서 가장 빈도가 적은 데이터 5 개 \\n\")\n",
    "    print(dataFreq_bot5)\n",
    "\n",
    "    cat(\"\\n\\n\\n\")\n",
    "\n",
    "}\n",
    "\n",
    "\n"
   ]
  },
  {
   "cell_type": "code",
   "execution_count": 94,
   "metadata": {
    "vscode": {
     "languageId": "r"
    }
   },
   "outputs": [
    {
     "name": "stdout",
     "output_type": "stream",
     "text": [
      "item size :  15"
     ]
    },
    {
     "data": {
      "text/html": [
       "<table class=\"dataframe\">\n",
       "<caption>A data.table: 15 x 17</caption>\n",
       "<thead>\n",
       "\t<tr><th scope=col>순번</th><th scope=col>코드</th><th scope=col>관측지</th><th scope=col>관측시각</th><th scope=col>기온</th><th scope=col>최고기온</th><th scope=col>최저기온</th><th scope=col>습도</th><th scope=col>풍향</th><th scope=col>풍속</th><th scope=col>강수량</th><th scope=col>일조시간</th><th scope=col>일사량</th><th scope=col>결로시간</th><th scope=col>초상온도</th><th scope=col>지중온도</th><th scope=col>토양수분보정값</th></tr>\n",
       "\t<tr><th scope=col>&lt;chr&gt;</th><th scope=col>&lt;chr&gt;</th><th scope=col>&lt;chr&gt;</th><th scope=col>&lt;chr&gt;</th><th scope=col>&lt;chr&gt;</th><th scope=col>&lt;chr&gt;</th><th scope=col>&lt;chr&gt;</th><th scope=col>&lt;chr&gt;</th><th scope=col>&lt;chr&gt;</th><th scope=col>&lt;chr&gt;</th><th scope=col>&lt;chr&gt;</th><th scope=col>&lt;chr&gt;</th><th scope=col>&lt;chr&gt;</th><th scope=col>&lt;chr&gt;</th><th scope=col>&lt;chr&gt;</th><th scope=col>&lt;chr&gt;</th><th scope=col>&lt;chr&gt;</th></tr>\n",
       "</thead>\n",
       "<tbody>\n",
       "\t<tr><td>1 </td><td>477802A001</td><td>가평군 가평읍</td><td>2024-04-01 00:10</td><td>5.8</td><td>-</td><td>-</td><td>66.4</td><td>241.6</td><td>0.4</td><td>0.0</td><td>0.0</td><td>0.0</td><td>0.0</td><td>0.0</td><td>0.0</td><td>28.3</td></tr>\n",
       "\t<tr><td>2 </td><td>477802A001</td><td>가평군 가평읍</td><td>2024-04-01 00:20</td><td>5.5</td><td>-</td><td>-</td><td>66.6</td><td>143.4</td><td>0.8</td><td>0.0</td><td>0.0</td><td>0.0</td><td>0.0</td><td>0.0</td><td>0.0</td><td>28.3</td></tr>\n",
       "\t<tr><td>3 </td><td>477802A001</td><td>가평군 가평읍</td><td>2024-04-01 00:30</td><td>5.2</td><td>-</td><td>-</td><td>68.6</td><td>210.9</td><td>0.5</td><td>0.0</td><td>0.0</td><td>0.0</td><td>0.0</td><td>0.0</td><td>0.0</td><td>28.3</td></tr>\n",
       "\t<tr><td>4 </td><td>477802A001</td><td>가평군 가평읍</td><td>2024-04-01 00:40</td><td>5.0</td><td>-</td><td>-</td><td>69.1</td><td>259.8</td><td>0.7</td><td>0.0</td><td>0.0</td><td>0.0</td><td>0.0</td><td>0.0</td><td>0.0</td><td>28.3</td></tr>\n",
       "\t<tr><td>5 </td><td>477802A001</td><td>가평군 가평읍</td><td>2024-04-01 00:50</td><td>4.8</td><td>-</td><td>-</td><td>69.3</td><td>230.5</td><td>0.6</td><td>0.0</td><td>0.0</td><td>0.0</td><td>0.0</td><td>0.0</td><td>0.0</td><td>28.3</td></tr>\n",
       "\t<tr><td>6 </td><td>477802A001</td><td>가평군 가평읍</td><td>2024-04-01 01:00</td><td>4.2</td><td>-</td><td>-</td><td>72.5</td><td>141.4</td><td>0.4</td><td>0.0</td><td>0.0</td><td>0.0</td><td>0.0</td><td>0.0</td><td>0.0</td><td>28.3</td></tr>\n",
       "\t<tr><td>7 </td><td>477802A001</td><td>가평군 가평읍</td><td>2024-04-01 01:10</td><td>3.8</td><td>-</td><td>-</td><td>74.2</td><td>186.2</td><td>0.4</td><td>0.0</td><td>0.0</td><td>0.0</td><td>0.0</td><td>0.0</td><td>0.0</td><td>28.3</td></tr>\n",
       "\t<tr><td>8 </td><td>477802A001</td><td>가평군 가평읍</td><td>2024-04-01 01:20</td><td>3.7</td><td>-</td><td>-</td><td>74.6</td><td>257.7</td><td>0.3</td><td>0.0</td><td>0.0</td><td>0.0</td><td>0.0</td><td>0.0</td><td>0.0</td><td>28.3</td></tr>\n",
       "\t<tr><td>9 </td><td>477802A001</td><td>가평군 가평읍</td><td>2024-04-01 01:30</td><td>3.7</td><td>-</td><td>-</td><td>73.8</td><td>263.7</td><td>0.4</td><td>0.0</td><td>0.0</td><td>0.0</td><td>0.0</td><td>0.0</td><td>0.0</td><td>28.3</td></tr>\n",
       "\t<tr><td>10</td><td>477802A001</td><td>가평군 가평읍</td><td>2024-04-01 01:40</td><td>3.4</td><td>-</td><td>-</td><td>74.0</td><td>228.1</td><td>0.5</td><td>0.0</td><td>0.0</td><td>0.0</td><td>0.0</td><td>0.0</td><td>0.0</td><td>28.3</td></tr>\n",
       "\t<tr><td>11</td><td>477802A001</td><td>가평군 가평읍</td><td>2024-04-01 01:50</td><td>3.2</td><td>-</td><td>-</td><td>74.0</td><td>242.1</td><td>0.5</td><td>0.0</td><td>0.0</td><td>0.0</td><td>0.0</td><td>0.0</td><td>0.0</td><td>28.3</td></tr>\n",
       "\t<tr><td>12</td><td>477802A001</td><td>가평군 가평읍</td><td>2024-04-01 02:00</td><td>3.4</td><td>-</td><td>-</td><td>73.2</td><td>194.4</td><td>0.4</td><td>0.0</td><td>0.0</td><td>0.0</td><td>0.0</td><td>0.0</td><td>0.0</td><td>28.3</td></tr>\n",
       "\t<tr><td>13</td><td>477802A001</td><td>가평군 가평읍</td><td>2024-04-01 02:10</td><td>3.0</td><td>-</td><td>-</td><td>75.4</td><td>160.3</td><td>0.3</td><td>0.0</td><td>0.0</td><td>0.0</td><td>0.0</td><td>0.0</td><td>0.0</td><td>28.3</td></tr>\n",
       "\t<tr><td>14</td><td>477802A001</td><td>가평군 가평읍</td><td>2024-04-01 02:20</td><td>2.8</td><td>-</td><td>-</td><td>76.2</td><td>205.5</td><td>0.4</td><td>0.0</td><td>0.0</td><td>0.0</td><td>0.0</td><td>0.0</td><td>0.0</td><td>28.3</td></tr>\n",
       "\t<tr><td>15</td><td>477802A001</td><td>가평군 가평읍</td><td>2024-04-01 02:30</td><td>2.6</td><td>-</td><td>-</td><td>76.9</td><td>216.5</td><td>0.6</td><td>0.0</td><td>0.0</td><td>0.0</td><td>0.0</td><td>0.0</td><td>0.0</td><td>28.2</td></tr>\n",
       "</tbody>\n",
       "</table>\n"
      ],
      "text/latex": [
       "A data.table: 15 x 17\n",
       "\\begin{tabular}{lllllllllllllllll}\n",
       " 순번 & 코드 & 관측지 & 관측시각 & 기온 & 최고기온 & 최저기온 & 습도 & 풍향 & 풍속 & 강수량 & 일조시간 & 일사량 & 결로시간 & 초상온도 & 지중온도 & 토양수분보정값\\\\\n",
       " <chr> & <chr> & <chr> & <chr> & <chr> & <chr> & <chr> & <chr> & <chr> & <chr> & <chr> & <chr> & <chr> & <chr> & <chr> & <chr> & <chr>\\\\\n",
       "\\hline\n",
       "\t 1  & 477802A001 & 가평군 가평읍 & 2024-04-01 00:10 & 5.8 & - & - & 66.4 & 241.6 & 0.4 & 0.0 & 0.0 & 0.0 & 0.0 & 0.0 & 0.0 & 28.3\\\\\n",
       "\t 2  & 477802A001 & 가평군 가평읍 & 2024-04-01 00:20 & 5.5 & - & - & 66.6 & 143.4 & 0.8 & 0.0 & 0.0 & 0.0 & 0.0 & 0.0 & 0.0 & 28.3\\\\\n",
       "\t 3  & 477802A001 & 가평군 가평읍 & 2024-04-01 00:30 & 5.2 & - & - & 68.6 & 210.9 & 0.5 & 0.0 & 0.0 & 0.0 & 0.0 & 0.0 & 0.0 & 28.3\\\\\n",
       "\t 4  & 477802A001 & 가평군 가평읍 & 2024-04-01 00:40 & 5.0 & - & - & 69.1 & 259.8 & 0.7 & 0.0 & 0.0 & 0.0 & 0.0 & 0.0 & 0.0 & 28.3\\\\\n",
       "\t 5  & 477802A001 & 가평군 가평읍 & 2024-04-01 00:50 & 4.8 & - & - & 69.3 & 230.5 & 0.6 & 0.0 & 0.0 & 0.0 & 0.0 & 0.0 & 0.0 & 28.3\\\\\n",
       "\t 6  & 477802A001 & 가평군 가평읍 & 2024-04-01 01:00 & 4.2 & - & - & 72.5 & 141.4 & 0.4 & 0.0 & 0.0 & 0.0 & 0.0 & 0.0 & 0.0 & 28.3\\\\\n",
       "\t 7  & 477802A001 & 가평군 가평읍 & 2024-04-01 01:10 & 3.8 & - & - & 74.2 & 186.2 & 0.4 & 0.0 & 0.0 & 0.0 & 0.0 & 0.0 & 0.0 & 28.3\\\\\n",
       "\t 8  & 477802A001 & 가평군 가평읍 & 2024-04-01 01:20 & 3.7 & - & - & 74.6 & 257.7 & 0.3 & 0.0 & 0.0 & 0.0 & 0.0 & 0.0 & 0.0 & 28.3\\\\\n",
       "\t 9  & 477802A001 & 가평군 가평읍 & 2024-04-01 01:30 & 3.7 & - & - & 73.8 & 263.7 & 0.4 & 0.0 & 0.0 & 0.0 & 0.0 & 0.0 & 0.0 & 28.3\\\\\n",
       "\t 10 & 477802A001 & 가평군 가평읍 & 2024-04-01 01:40 & 3.4 & - & - & 74.0 & 228.1 & 0.5 & 0.0 & 0.0 & 0.0 & 0.0 & 0.0 & 0.0 & 28.3\\\\\n",
       "\t 11 & 477802A001 & 가평군 가평읍 & 2024-04-01 01:50 & 3.2 & - & - & 74.0 & 242.1 & 0.5 & 0.0 & 0.0 & 0.0 & 0.0 & 0.0 & 0.0 & 28.3\\\\\n",
       "\t 12 & 477802A001 & 가평군 가평읍 & 2024-04-01 02:00 & 3.4 & - & - & 73.2 & 194.4 & 0.4 & 0.0 & 0.0 & 0.0 & 0.0 & 0.0 & 0.0 & 28.3\\\\\n",
       "\t 13 & 477802A001 & 가평군 가평읍 & 2024-04-01 02:10 & 3.0 & - & - & 75.4 & 160.3 & 0.3 & 0.0 & 0.0 & 0.0 & 0.0 & 0.0 & 0.0 & 28.3\\\\\n",
       "\t 14 & 477802A001 & 가평군 가평읍 & 2024-04-01 02:20 & 2.8 & - & - & 76.2 & 205.5 & 0.4 & 0.0 & 0.0 & 0.0 & 0.0 & 0.0 & 0.0 & 28.3\\\\\n",
       "\t 15 & 477802A001 & 가평군 가평읍 & 2024-04-01 02:30 & 2.6 & - & - & 76.9 & 216.5 & 0.6 & 0.0 & 0.0 & 0.0 & 0.0 & 0.0 & 0.0 & 28.2\\\\\n",
       "\\end{tabular}\n"
      ],
      "text/markdown": [
       "\n",
       "A data.table: 15 x 17\n",
       "\n",
       "| 순번 &lt;chr&gt; | 코드 &lt;chr&gt; | 관측지 &lt;chr&gt; | 관측시각 &lt;chr&gt; | 기온 &lt;chr&gt; | 최고기온 &lt;chr&gt; | 최저기온 &lt;chr&gt; | 습도 &lt;chr&gt; | 풍향 &lt;chr&gt; | 풍속 &lt;chr&gt; | 강수량 &lt;chr&gt; | 일조시간 &lt;chr&gt; | 일사량 &lt;chr&gt; | 결로시간 &lt;chr&gt; | 초상온도 &lt;chr&gt; | 지중온도 &lt;chr&gt; | 토양수분보정값 &lt;chr&gt; |\n",
       "|---|---|---|---|---|---|---|---|---|---|---|---|---|---|---|---|---|\n",
       "| 1  | 477802A001 | 가평군 가평읍 | 2024-04-01 00:10 | 5.8 | - | - | 66.4 | 241.6 | 0.4 | 0.0 | 0.0 | 0.0 | 0.0 | 0.0 | 0.0 | 28.3 |\n",
       "| 2  | 477802A001 | 가평군 가평읍 | 2024-04-01 00:20 | 5.5 | - | - | 66.6 | 143.4 | 0.8 | 0.0 | 0.0 | 0.0 | 0.0 | 0.0 | 0.0 | 28.3 |\n",
       "| 3  | 477802A001 | 가평군 가평읍 | 2024-04-01 00:30 | 5.2 | - | - | 68.6 | 210.9 | 0.5 | 0.0 | 0.0 | 0.0 | 0.0 | 0.0 | 0.0 | 28.3 |\n",
       "| 4  | 477802A001 | 가평군 가평읍 | 2024-04-01 00:40 | 5.0 | - | - | 69.1 | 259.8 | 0.7 | 0.0 | 0.0 | 0.0 | 0.0 | 0.0 | 0.0 | 28.3 |\n",
       "| 5  | 477802A001 | 가평군 가평읍 | 2024-04-01 00:50 | 4.8 | - | - | 69.3 | 230.5 | 0.6 | 0.0 | 0.0 | 0.0 | 0.0 | 0.0 | 0.0 | 28.3 |\n",
       "| 6  | 477802A001 | 가평군 가평읍 | 2024-04-01 01:00 | 4.2 | - | - | 72.5 | 141.4 | 0.4 | 0.0 | 0.0 | 0.0 | 0.0 | 0.0 | 0.0 | 28.3 |\n",
       "| 7  | 477802A001 | 가평군 가평읍 | 2024-04-01 01:10 | 3.8 | - | - | 74.2 | 186.2 | 0.4 | 0.0 | 0.0 | 0.0 | 0.0 | 0.0 | 0.0 | 28.3 |\n",
       "| 8  | 477802A001 | 가평군 가평읍 | 2024-04-01 01:20 | 3.7 | - | - | 74.6 | 257.7 | 0.3 | 0.0 | 0.0 | 0.0 | 0.0 | 0.0 | 0.0 | 28.3 |\n",
       "| 9  | 477802A001 | 가평군 가평읍 | 2024-04-01 01:30 | 3.7 | - | - | 73.8 | 263.7 | 0.4 | 0.0 | 0.0 | 0.0 | 0.0 | 0.0 | 0.0 | 28.3 |\n",
       "| 10 | 477802A001 | 가평군 가평읍 | 2024-04-01 01:40 | 3.4 | - | - | 74.0 | 228.1 | 0.5 | 0.0 | 0.0 | 0.0 | 0.0 | 0.0 | 0.0 | 28.3 |\n",
       "| 11 | 477802A001 | 가평군 가평읍 | 2024-04-01 01:50 | 3.2 | - | - | 74.0 | 242.1 | 0.5 | 0.0 | 0.0 | 0.0 | 0.0 | 0.0 | 0.0 | 28.3 |\n",
       "| 12 | 477802A001 | 가평군 가평읍 | 2024-04-01 02:00 | 3.4 | - | - | 73.2 | 194.4 | 0.4 | 0.0 | 0.0 | 0.0 | 0.0 | 0.0 | 0.0 | 28.3 |\n",
       "| 13 | 477802A001 | 가평군 가평읍 | 2024-04-01 02:10 | 3.0 | - | - | 75.4 | 160.3 | 0.3 | 0.0 | 0.0 | 0.0 | 0.0 | 0.0 | 0.0 | 28.3 |\n",
       "| 14 | 477802A001 | 가평군 가평읍 | 2024-04-01 02:20 | 2.8 | - | - | 76.2 | 205.5 | 0.4 | 0.0 | 0.0 | 0.0 | 0.0 | 0.0 | 0.0 | 28.3 |\n",
       "| 15 | 477802A001 | 가평군 가평읍 | 2024-04-01 02:30 | 2.6 | - | - | 76.9 | 216.5 | 0.6 | 0.0 | 0.0 | 0.0 | 0.0 | 0.0 | 0.0 | 28.2 |\n",
       "\n"
      ],
      "text/plain": [
       "   순번 코드       관측지        관측시각         기온 최고기온 최저기온 습도\n",
       "1  1    477802A001 가평군 가평읍 2024-04-01 00:10 5.8  -        -        66.4\n",
       "2  2    477802A001 가평군 가평읍 2024-04-01 00:20 5.5  -        -        66.6\n",
       "3  3    477802A001 가평군 가평읍 2024-04-01 00:30 5.2  -        -        68.6\n",
       "4  4    477802A001 가평군 가평읍 2024-04-01 00:40 5.0  -        -        69.1\n",
       "5  5    477802A001 가평군 가평읍 2024-04-01 00:50 4.8  -        -        69.3\n",
       "6  6    477802A001 가평군 가평읍 2024-04-01 01:00 4.2  -        -        72.5\n",
       "7  7    477802A001 가평군 가평읍 2024-04-01 01:10 3.8  -        -        74.2\n",
       "8  8    477802A001 가평군 가평읍 2024-04-01 01:20 3.7  -        -        74.6\n",
       "9  9    477802A001 가평군 가평읍 2024-04-01 01:30 3.7  -        -        73.8\n",
       "10 10   477802A001 가평군 가평읍 2024-04-01 01:40 3.4  -        -        74.0\n",
       "11 11   477802A001 가평군 가평읍 2024-04-01 01:50 3.2  -        -        74.0\n",
       "12 12   477802A001 가평군 가평읍 2024-04-01 02:00 3.4  -        -        73.2\n",
       "13 13   477802A001 가평군 가평읍 2024-04-01 02:10 3.0  -        -        75.4\n",
       "14 14   477802A001 가평군 가평읍 2024-04-01 02:20 2.8  -        -        76.2\n",
       "15 15   477802A001 가평군 가평읍 2024-04-01 02:30 2.6  -        -        76.9\n",
       "   풍향  풍속 강수량 일조시간 일사량 결로시간 초상온도 지중온도 토양수분보정값\n",
       "1  241.6 0.4  0.0    0.0      0.0    0.0      0.0      0.0      28.3          \n",
       "2  143.4 0.8  0.0    0.0      0.0    0.0      0.0      0.0      28.3          \n",
       "3  210.9 0.5  0.0    0.0      0.0    0.0      0.0      0.0      28.3          \n",
       "4  259.8 0.7  0.0    0.0      0.0    0.0      0.0      0.0      28.3          \n",
       "5  230.5 0.6  0.0    0.0      0.0    0.0      0.0      0.0      28.3          \n",
       "6  141.4 0.4  0.0    0.0      0.0    0.0      0.0      0.0      28.3          \n",
       "7  186.2 0.4  0.0    0.0      0.0    0.0      0.0      0.0      28.3          \n",
       "8  257.7 0.3  0.0    0.0      0.0    0.0      0.0      0.0      28.3          \n",
       "9  263.7 0.4  0.0    0.0      0.0    0.0      0.0      0.0      28.3          \n",
       "10 228.1 0.5  0.0    0.0      0.0    0.0      0.0      0.0      28.3          \n",
       "11 242.1 0.5  0.0    0.0      0.0    0.0      0.0      0.0      28.3          \n",
       "12 194.4 0.4  0.0    0.0      0.0    0.0      0.0      0.0      28.3          \n",
       "13 160.3 0.3  0.0    0.0      0.0    0.0      0.0      0.0      28.3          \n",
       "14 205.5 0.4  0.0    0.0      0.0    0.0      0.0      0.0      28.3          \n",
       "15 216.5 0.6  0.0    0.0      0.0    0.0      0.0      0.0      28.2          "
      ]
     },
     "metadata": {},
     "output_type": "display_data"
    }
   ],
   "source": [
    "\n",
    "\n",
    "WeatherDataFetch <- function(place,rowsize){\n",
    "    ## library install \n",
    "    #library(XML)\n",
    "    #library(data.table)\n",
    "\n",
    "    ## 인증키 및 검색 파라미터 \n",
    "    api_auth_key <-\"D5C%2B%2FhikVvLR85eV%2BacjKWLLqZ0ELTxUDitWOGBhGU8g3hftCFzNL6vEftA9FXZ07nwqHuY9tcSoOYbW9KikTA%3D%3D\"\n",
    "    page_size =rowsize\n",
    "    date = \"2024-04-01\"\n",
    "    #place = \"가평군 가평읍\"\n",
    "    data_request_url <- paste(\n",
    "        \"http://apis.data.go.kr/1390802/AgriWeather/WeatherObsrInfo/GnrlWeather/getWeatherTenMinList?\",\n",
    "        \"serviceKey=\",api_auth_key,\n",
    "        \"&Page_No=1&Page_Size=\",page_size,\"&date=\",date,\"&obsr_Spot_Nm=\",place,\"&obsr_Spot_Code=477802A001\",sep=\"\")\n",
    "\n",
    "    ## API requst hhtp url \n",
    "    data_request_url\n",
    "\n",
    "    ## XML parsing\n",
    "    raw.data <- xmlTreeParse(data_request_url, useInternalNodes =TRUE , encoding =\"utf-8\")\n",
    "    rootNode <- xmlRoot(raw.data)\n",
    "\n",
    "    items <- rootNode[[2]][['items']]\n",
    "    total <- list()\n",
    "    item  <- list()\n",
    "    item_temp_dt <-data.table()\n",
    "\n",
    "    #table size \n",
    "    size <- xmlSize(items)\n",
    "    cat(\"item size : \",size)\n",
    "\n",
    "    ## table 화 \n",
    "    for(i in 1:size){\n",
    "        item_temp <- xmlSApply(items[[i]],xmlValue)\n",
    "        #cat(item_temp)\n",
    "        item_temp_dt <- data.table(\n",
    "            순번=item_temp[1],\n",
    "            코드=item_temp[2],\n",
    "            관측지=item_temp[3],\n",
    "            관측시각=item_temp[4],\n",
    "            기온=item_temp[5],\n",
    "            최고기온=item_temp[6],\n",
    "            최저기온=item_temp[7],\n",
    "            습도=item_temp[8],\n",
    "            풍향=item_temp[9],\n",
    "            풍속=item_temp[10],\n",
    "            강수량=item_temp[11],\n",
    "            일조시간=item_temp[12],\n",
    "            일사량=item_temp[13],\n",
    "            결로시간=item_temp[14],\n",
    "            초상온도=item_temp[15],\n",
    "            지중온도=item_temp[16],\n",
    "            토양수분보정값=item_temp[17]\n",
    "        )\n",
    "        item[[i]] <- item_temp_dt\n",
    "    }\n",
    "    data.table::rbindlist(item)\n",
    "\n",
    "}\n",
    "WeatherDataFetch(\"가평군 가평읍\",15)\n",
    "\n"
   ]
  },
  {
   "cell_type": "code",
   "execution_count": 81,
   "metadata": {
    "vscode": {
     "languageId": "r"
    }
   },
   "outputs": [
    {
     "data": {
      "text/html": [
       "'http://apis.data.go.kr/1390802/AgriWeather/WeatherObsrInfo/GnrlWeather/getWeatherTenMinList? serviceKey= D5C%2B%2FhikVvLR85eV%2BacjKWLLqZ0ELTxUDitWOGBhGU8g3hftCFzNL6vEftA9FXZ07nwqHuY9tcSoOYbW9KikTA%3D%3D &amp;Page_No=1&amp;Page_Size= 10 100&amp;date= 2024-04-01 &amp;obsr_Spot_Nm= 가평군 가평읍 &amp;obsr_Spot_Code=477802A001'"
      ],
      "text/latex": [
       "'http://apis.data.go.kr/1390802/AgriWeather/WeatherObsrInfo/GnrlWeather/getWeatherTenMinList? serviceKey= D5C\\%2B\\%2FhikVvLR85eV\\%2BacjKWLLqZ0ELTxUDitWOGBhGU8g3hftCFzNL6vEftA9FXZ07nwqHuY9tcSoOYbW9KikTA\\%3D\\%3D \\&Page\\_No=1\\&Page\\_Size= 10 100\\&date= 2024-04-01 \\&obsr\\_Spot\\_Nm= 가평군 가평읍 \\&obsr\\_Spot\\_Code=477802A001'"
      ],
      "text/markdown": [
       "'http://apis.data.go.kr/1390802/AgriWeather/WeatherObsrInfo/GnrlWeather/getWeatherTenMinList? serviceKey= D5C%2B%2FhikVvLR85eV%2BacjKWLLqZ0ELTxUDitWOGBhGU8g3hftCFzNL6vEftA9FXZ07nwqHuY9tcSoOYbW9KikTA%3D%3D &amp;Page_No=1&amp;Page_Size= 10 100&amp;date= 2024-04-01 &amp;obsr_Spot_Nm= 가평군 가평읍 &amp;obsr_Spot_Code=477802A001'"
      ],
      "text/plain": [
       "[1] \"http://apis.data.go.kr/1390802/AgriWeather/WeatherObsrInfo/GnrlWeather/getWeatherTenMinList? serviceKey= D5C%2B%2FhikVvLR85eV%2BacjKWLLqZ0ELTxUDitWOGBhGU8g3hftCFzNL6vEftA9FXZ07nwqHuY9tcSoOYbW9KikTA%3D%3D &Page_No=1&Page_Size= 10 100&date= 2024-04-01 &obsr_Spot_Nm= 가평군 가평읍 &obsr_Spot_Code=477802A001\""
      ]
     },
     "metadata": {},
     "output_type": "display_data"
    }
   ],
   "source": [
    "data_request_url\n"
   ]
  },
  {
   "cell_type": "code",
   "execution_count": null,
   "metadata": {
    "vscode": {
     "languageId": "r"
    }
   },
   "outputs": [
    {
     "name": "stdout",
     "output_type": "stream",
     "text": [
      "itme size :  0"
     ]
    },
    {
     "ename": "ERROR",
     "evalue": "Error in UseMethod(\"xmlSApply\"): 클래스 \"NULL\"의 객체에 적용된 'xmlSApply'에 사용할수 있는 메소드가 없습니다\n",
     "output_type": "error",
     "traceback": [
      "Error in UseMethod(\"xmlSApply\"): 클래스 \"NULL\"의 객체에 적용된 'xmlSApply'에 사용할수 있는 메소드가 없습니다\nTraceback:\n",
      "1. xmlSApply(items[[i]], xmlValue)"
     ]
    }
   ],
   "source": []
  },
  {
   "cell_type": "code",
   "execution_count": 77,
   "metadata": {
    "vscode": {
     "languageId": "r"
    }
   },
   "outputs": [
    {
     "data": {
      "text/html": [
       "'ㅁㄴㅇㄹㅁㄴㅇㄹ ㅁㄴㅇㄹㅁㄴㄹ'"
      ],
      "text/latex": [
       "'ㅁㄴㅇㄹㅁㄴㅇㄹ ㅁㄴㅇㄹㅁㄴㄹ'"
      ],
      "text/markdown": [
       "'ㅁㄴㅇㄹㅁㄴㅇㄹ ㅁㄴㅇㄹㅁㄴㄹ'"
      ],
      "text/plain": [
       "[1] \"ㅁㄴㅇㄹㅁㄴㅇㄹ ㅁㄴㅇㄹㅁㄴㄹ\""
      ]
     },
     "metadata": {},
     "output_type": "display_data"
    }
   ],
   "source": [
    "a<-paste(\"ㅁㄴㅇㄹㅁㄴㅇㄹ\", \"ㅁㄴㅇㄹㅁㄴㄹ\")\n",
    "a\n"
   ]
  }
 ],
 "metadata": {
  "kernelspec": {
   "display_name": "R",
   "language": "R",
   "name": "r"
  },
  "language_info": {
   "codemirror_mode": "r",
   "file_extension": ".r",
   "mimetype": "text/x-r-source",
   "name": "R",
   "pygments_lexer": "r",
   "version": "4.3.3"
  }
 },
 "nbformat": 4,
 "nbformat_minor": 2
}
